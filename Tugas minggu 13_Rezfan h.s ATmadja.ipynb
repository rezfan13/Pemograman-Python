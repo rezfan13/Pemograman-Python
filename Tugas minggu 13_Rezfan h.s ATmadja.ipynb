{
  "nbformat": 4,
  "nbformat_minor": 0,
  "metadata": {
    "colab": {
      "name": "Copy of Tugas 13 M Farid Patria.ipynb",
      "provenance": [],
      "include_colab_link": true
    },
    "kernelspec": {
      "name": "python3",
      "display_name": "Python 3"
    }
  },
  "cells": [
    {
      "cell_type": "markdown",
      "metadata": {
        "id": "view-in-github",
        "colab_type": "text"
      },
      "source": [
        "<a href=\"https://colab.research.google.com/github/rezfan13/Rezfan-Atmadja/blob/main/Tugas%20minggu%2013_Rezfan%20h.s%20ATmadja.ipynb\" target=\"_parent\"><img src=\"https://colab.research.google.com/assets/colab-badge.svg\" alt=\"Open In Colab\"/></a>"
      ]
    },
    {
      "cell_type": "markdown",
      "metadata": {
        "id": "9JtP1sH2CC2H"
      },
      "source": [
        "# NUMPY AND MATPLOTLIB"
      ]
    },
    {
      "cell_type": "code",
      "metadata": {
        "colab": {
          "base_uri": "https://localhost:8080/"
        },
        "id": "rIsTq-WcCNC5",
        "outputId": "d73c597c-d9a5-4f0e-b923-84069dc28ee6"
      },
      "source": [
        "from google.colab import drive\r\n",
        "drive.mount('/content/drive')"
      ],
      "execution_count": null,
      "outputs": [
        {
          "output_type": "stream",
          "text": [
            "Mounted at /content/drive\n"
          ],
          "name": "stdout"
        }
      ]
    },
    {
      "cell_type": "code",
      "metadata": {
        "id": "shFTTyDwCQYf"
      },
      "source": [
        "import numpy as np\r\n",
        "import matplotlib.pyplot as plt"
      ],
      "execution_count": null,
      "outputs": []
    },
    {
      "cell_type": "code",
      "metadata": {
        "colab": {
          "base_uri": "https://localhost:8080/"
        },
        "id": "4ihDEDkrCbg3",
        "outputId": "d1f7b4f1-7c09-4436-fdb0-007420e642f9"
      },
      "source": [
        "np.zeros(4)"
      ],
      "execution_count": null,
      "outputs": [
        {
          "output_type": "execute_result",
          "data": {
            "text/plain": [
              "array([0., 0., 0., 0.])"
            ]
          },
          "metadata": {
            "tags": []
          },
          "execution_count": 23
        }
      ]
    },
    {
      "cell_type": "code",
      "metadata": {
        "colab": {
          "base_uri": "https://localhost:8080/"
        },
        "id": "gA3bDrBVCcvd",
        "outputId": "e5756143-b328-4e51-92a8-d9c6a5e6d610"
      },
      "source": [
        "np.ones(3)"
      ],
      "execution_count": null,
      "outputs": [
        {
          "output_type": "execute_result",
          "data": {
            "text/plain": [
              "array([1., 1., 1.])"
            ]
          },
          "metadata": {
            "tags": []
          },
          "execution_count": 24
        }
      ]
    },
    {
      "cell_type": "code",
      "metadata": {
        "colab": {
          "base_uri": "https://localhost:8080/"
        },
        "id": "FjOzFbHQCfXD",
        "outputId": "cd76166d-ff94-449b-fba3-8ae612195021"
      },
      "source": [
        "np.zeros((3,4))"
      ],
      "execution_count": null,
      "outputs": [
        {
          "output_type": "execute_result",
          "data": {
            "text/plain": [
              "array([[0., 0., 0., 0.],\n",
              "       [0., 0., 0., 0.],\n",
              "       [0., 0., 0., 0.]])"
            ]
          },
          "metadata": {
            "tags": []
          },
          "execution_count": 25
        }
      ]
    },
    {
      "cell_type": "code",
      "metadata": {
        "colab": {
          "base_uri": "https://localhost:8080/"
        },
        "id": "rFYBnlkRCgER",
        "outputId": "bdfce6f7-81ca-48c9-a183-ea0cfeb7cadb"
      },
      "source": [
        "np.ones((5,2))"
      ],
      "execution_count": null,
      "outputs": [
        {
          "output_type": "execute_result",
          "data": {
            "text/plain": [
              "array([[1., 1.],\n",
              "       [1., 1.],\n",
              "       [1., 1.],\n",
              "       [1., 1.],\n",
              "       [1., 1.]])"
            ]
          },
          "metadata": {
            "tags": []
          },
          "execution_count": 26
        }
      ]
    },
    {
      "cell_type": "code",
      "metadata": {
        "colab": {
          "base_uri": "https://localhost:8080/"
        },
        "id": "o0eYNiPPChjC",
        "outputId": "30529990-7d4f-4931-f836-0e37d2755b34"
      },
      "source": [
        "np.arange(10)"
      ],
      "execution_count": null,
      "outputs": [
        {
          "output_type": "execute_result",
          "data": {
            "text/plain": [
              "array([0, 1, 2, 3, 4, 5, 6, 7, 8, 9])"
            ]
          },
          "metadata": {
            "tags": []
          },
          "execution_count": 28
        }
      ]
    },
    {
      "cell_type": "code",
      "metadata": {
        "colab": {
          "base_uri": "https://localhost:8080/"
        },
        "id": "8JAbdJVlCi9S",
        "outputId": "1422e3c3-4878-4770-fa62-4d4ce974c93c"
      },
      "source": [
        "np.arange(2,10)"
      ],
      "execution_count": null,
      "outputs": [
        {
          "output_type": "execute_result",
          "data": {
            "text/plain": [
              "array([2, 3, 4, 5, 6, 7, 8, 9])"
            ]
          },
          "metadata": {
            "tags": []
          },
          "execution_count": 29
        }
      ]
    },
    {
      "cell_type": "code",
      "metadata": {
        "colab": {
          "base_uri": "https://localhost:8080/"
        },
        "id": "x0JAzRi-Cmke",
        "outputId": "609165e9-5346-4b75-fee3-63d609c7ca52"
      },
      "source": [
        "np.arange(3,47,4)"
      ],
      "execution_count": null,
      "outputs": [
        {
          "output_type": "execute_result",
          "data": {
            "text/plain": [
              "array([ 3,  7, 11, 15, 19, 23, 27, 31, 35, 39, 43])"
            ]
          },
          "metadata": {
            "tags": []
          },
          "execution_count": 30
        }
      ]
    },
    {
      "cell_type": "code",
      "metadata": {
        "colab": {
          "base_uri": "https://localhost:8080/"
        },
        "id": "gdgc5b4XCoub",
        "outputId": "467ddd09-e2e8-4fbe-9045-3c856e6f9adf"
      },
      "source": [
        "np.arange(4,5,0.1)"
      ],
      "execution_count": null,
      "outputs": [
        {
          "output_type": "execute_result",
          "data": {
            "text/plain": [
              "array([4. , 4.1, 4.2, 4.3, 4.4, 4.5, 4.6, 4.7, 4.8, 4.9])"
            ]
          },
          "metadata": {
            "tags": []
          },
          "execution_count": 31
        }
      ]
    },
    {
      "cell_type": "code",
      "metadata": {
        "colab": {
          "base_uri": "https://localhost:8080/"
        },
        "id": "ApCdIDeFCrUZ",
        "outputId": "a0eb17a1-b489-4d64-b076-1d0958b36a1e"
      },
      "source": [
        "np.arange(2,-4,-0.5)"
      ],
      "execution_count": null,
      "outputs": [
        {
          "output_type": "execute_result",
          "data": {
            "text/plain": [
              "array([ 2. ,  1.5,  1. ,  0.5,  0. , -0.5, -1. , -1.5, -2. , -2.5, -3. ,\n",
              "       -3.5])"
            ]
          },
          "metadata": {
            "tags": []
          },
          "execution_count": 32
        }
      ]
    },
    {
      "cell_type": "code",
      "metadata": {
        "colab": {
          "base_uri": "https://localhost:8080/"
        },
        "id": "E0xqRhYGCt7G",
        "outputId": "bfde8703-a967-40a1-a365-0ff54369d909"
      },
      "source": [
        "np.linspace(2,10,4)"
      ],
      "execution_count": null,
      "outputs": [
        {
          "output_type": "execute_result",
          "data": {
            "text/plain": [
              "array([ 2.        ,  4.66666667,  7.33333333, 10.        ])"
            ]
          },
          "metadata": {
            "tags": []
          },
          "execution_count": 33
        }
      ]
    },
    {
      "cell_type": "code",
      "metadata": {
        "colab": {
          "base_uri": "https://localhost:8080/"
        },
        "id": "UyCWQgclCvga",
        "outputId": "8d940ef0-232b-41a4-9c84-7dce9438e060"
      },
      "source": [
        "np.linspace(2,-4,4)"
      ],
      "execution_count": null,
      "outputs": [
        {
          "output_type": "execute_result",
          "data": {
            "text/plain": [
              "array([ 2.,  0., -2., -4.])"
            ]
          },
          "metadata": {
            "tags": []
          },
          "execution_count": 35
        }
      ]
    },
    {
      "cell_type": "code",
      "metadata": {
        "id": "Mg04TyiBCw-C"
      },
      "source": [
        "e=np.arange(0,20,2)"
      ],
      "execution_count": null,
      "outputs": []
    },
    {
      "cell_type": "code",
      "metadata": {
        "colab": {
          "base_uri": "https://localhost:8080/"
        },
        "id": "5NqAEwOaCyXu",
        "outputId": "ceb56151-22f7-453b-a6a5-47178b59e1b5"
      },
      "source": [
        "len(e)"
      ],
      "execution_count": null,
      "outputs": [
        {
          "output_type": "execute_result",
          "data": {
            "text/plain": [
              "10"
            ]
          },
          "metadata": {
            "tags": []
          },
          "execution_count": 37
        }
      ]
    },
    {
      "cell_type": "code",
      "metadata": {
        "colab": {
          "base_uri": "https://localhost:8080/"
        },
        "id": "LFIQljQACy8W",
        "outputId": "4b4abb79-d53c-43f4-9d83-cd25a5bd01be"
      },
      "source": [
        "e.reshape(5,2)"
      ],
      "execution_count": null,
      "outputs": [
        {
          "output_type": "execute_result",
          "data": {
            "text/plain": [
              "array([[ 0,  2],\n",
              "       [ 4,  6],\n",
              "       [ 8, 10],\n",
              "       [12, 14],\n",
              "       [16, 18]])"
            ]
          },
          "metadata": {
            "tags": []
          },
          "execution_count": 38
        }
      ]
    },
    {
      "cell_type": "code",
      "metadata": {
        "colab": {
          "base_uri": "https://localhost:8080/"
        },
        "id": "NKri86brC0Ud",
        "outputId": "462c6800-2fd6-4b27-9a41-d4c8861ae89a"
      },
      "source": [
        "e.reshape(2,5)"
      ],
      "execution_count": null,
      "outputs": [
        {
          "output_type": "execute_result",
          "data": {
            "text/plain": [
              "array([[ 0,  2,  4,  6,  8],\n",
              "       [10, 12, 14, 16, 18]])"
            ]
          },
          "metadata": {
            "tags": []
          },
          "execution_count": 39
        }
      ]
    },
    {
      "cell_type": "code",
      "metadata": {
        "colab": {
          "base_uri": "https://localhost:8080/"
        },
        "id": "GgfywLY1C2LC",
        "outputId": "ee518cb5-546f-46fe-8fc8-0fd578ccfd2c"
      },
      "source": [
        "print(e)"
      ],
      "execution_count": null,
      "outputs": [
        {
          "output_type": "stream",
          "text": [
            "[ 0  2  4  6  8 10 12 14 16 18]\n"
          ],
          "name": "stdout"
        }
      ]
    },
    {
      "cell_type": "code",
      "metadata": {
        "id": "nS2xFQCTC4zI"
      },
      "source": [
        "f=e.reshape(2,5)"
      ],
      "execution_count": null,
      "outputs": []
    },
    {
      "cell_type": "code",
      "metadata": {
        "colab": {
          "base_uri": "https://localhost:8080/"
        },
        "id": "v2VB0CrRC6hN",
        "outputId": "1c21e5e1-a9f8-4a7f-b3a7-1ff4f369261a"
      },
      "source": [
        "print(f)"
      ],
      "execution_count": null,
      "outputs": [
        {
          "output_type": "stream",
          "text": [
            "[[ 0  2  4  6  8]\n",
            " [10 12 14 16 18]]\n"
          ],
          "name": "stdout"
        }
      ]
    },
    {
      "cell_type": "code",
      "metadata": {
        "colab": {
          "base_uri": "https://localhost:8080/"
        },
        "id": "ZO2Y44_6C7u4",
        "outputId": "091a6414-46a4-484a-c49f-bc6356c6c803"
      },
      "source": [
        "np.random.random((3,4))"
      ],
      "execution_count": null,
      "outputs": [
        {
          "output_type": "execute_result",
          "data": {
            "text/plain": [
              "array([[0.34901348, 0.7938903 , 0.90594695, 0.23201411],\n",
              "       [0.03296428, 0.11909433, 0.66875018, 0.39041628],\n",
              "       [0.78814943, 0.28909299, 0.52614891, 0.63671364]])"
            ]
          },
          "metadata": {
            "tags": []
          },
          "execution_count": 43
        }
      ]
    },
    {
      "cell_type": "code",
      "metadata": {
        "colab": {
          "base_uri": "https://localhost:8080/"
        },
        "id": "ezApQUBfC9T0",
        "outputId": "a3fbb9ea-3e18-442d-ec75-c3adfba1bc5a"
      },
      "source": [
        "np.random.randint(1,20,10)"
      ],
      "execution_count": null,
      "outputs": [
        {
          "output_type": "execute_result",
          "data": {
            "text/plain": [
              "array([ 1,  6, 13,  4,  4, 15,  8, 17,  7,  2])"
            ]
          },
          "metadata": {
            "tags": []
          },
          "execution_count": 44
        }
      ]
    },
    {
      "cell_type": "code",
      "metadata": {
        "colab": {
          "base_uri": "https://localhost:8080/"
        },
        "id": "EygH3g8lC-cf",
        "outputId": "16b99f42-e6d1-4f32-80d0-8c0b673c357e"
      },
      "source": [
        "np.random.randn(3)"
      ],
      "execution_count": null,
      "outputs": [
        {
          "output_type": "execute_result",
          "data": {
            "text/plain": [
              "array([-0.40398542, -0.87301802,  1.10420702])"
            ]
          },
          "metadata": {
            "tags": []
          },
          "execution_count": 45
        }
      ]
    },
    {
      "cell_type": "markdown",
      "metadata": {
        "id": "L14WcYPoBybN"
      },
      "source": [
        "# GAMBAR KURVA"
      ]
    },
    {
      "cell_type": "code",
      "metadata": {
        "id": "WCs4gmdgDXnW"
      },
      "source": [
        "x=np.linspace(1,10,20)\r\n",
        "y=x**2\r\n",
        "y2=x**3"
      ],
      "execution_count": null,
      "outputs": []
    },
    {
      "cell_type": "code",
      "metadata": {
        "colab": {
          "base_uri": "https://localhost:8080/"
        },
        "id": "4gqsNeobBZWq",
        "outputId": "d425d6cc-0418-40e9-c68d-c08fccb20813"
      },
      "source": [
        "print(x)"
      ],
      "execution_count": null,
      "outputs": [
        {
          "output_type": "stream",
          "text": [
            "[ 1.          1.47368421  1.94736842  2.42105263  2.89473684  3.36842105\n",
            "  3.84210526  4.31578947  4.78947368  5.26315789  5.73684211  6.21052632\n",
            "  6.68421053  7.15789474  7.63157895  8.10526316  8.57894737  9.05263158\n",
            "  9.52631579 10.        ]\n"
          ],
          "name": "stdout"
        }
      ]
    },
    {
      "cell_type": "code",
      "metadata": {
        "id": "krnbAzX6BQte"
      },
      "source": [
        "x=np.linspace(1,10,20)\r\n",
        "y=x**2\r\n",
        "y2=x**3"
      ],
      "execution_count": null,
      "outputs": []
    },
    {
      "cell_type": "code",
      "metadata": {
        "colab": {
          "base_uri": "https://localhost:8080/",
          "height": 295
        },
        "id": "m0OhL8YbBc3u",
        "outputId": "5a186e42-6832-4597-ff16-1343591609e9"
      },
      "source": [
        "plt.figure()\r\n",
        "plt.plot(x,y,'m-^', label='Y1')\r\n",
        "plt.plot(x,y2,'c-o', label='Y2')\r\n",
        "plt.legend()\r\n",
        "plt.title('Contoh kurva Python')\r\n",
        "plt.xlabel('X')\r\n",
        "plt.ylabel('Y')\r\n",
        "plt.show()"
      ],
      "execution_count": null,
      "outputs": [
        {
          "output_type": "display_data",
          "data": {
            "image/png": "[encoded data removed]",
            "text/plain": [
              "<Figure size 432x288 with 1 Axes>"
            ]
          },
          "metadata": {
            "tags": [],
            "needs_background": "light"
          }
        }
      ]
    },
    {
      "cell_type": "markdown",
      "metadata": {
        "id": "tHGnvSmrB8Gg"
      },
      "source": [
        ""
      ]
    },
    {
      "cell_type": "code",
      "metadata": {
        "id": "8v7gEfSR_qmK"
      },
      "source": [
        "def cos(frek,tipe,ht,hr,d):\r\n",
        "  #frek = frekuensi (MHz)\r\n",
        "  #tipe = urban, suburban, open\r\n",
        "  #ht = tinggi tower (meter)\r\n",
        "  #hr = tinggi user (meter)\r\n",
        "  #d = jarak (meter)\r\n",
        "    if frek in range(150,1501):\r\n",
        "        Ca=69.55\r\n",
        "        Cb=26.16\r\n",
        "    elif frek in range(1501,2001):\r\n",
        "        Ca=46.3\r\n",
        "        Cb=33.9\r\n",
        "    \r\n",
        "    if tipe=='urban' :\r\n",
        "        Cm=0\r\n",
        "    elif tipe=='suburban' :\r\n",
        "        Cm= -2*((np.log10((frek/28)**2))-5.4)\r\n",
        "    elif tipe=='open' :\r\n",
        "        Cm= -4.78*(np.log10(frek))+18.33*(np.log10(frek))-40.94\r\n",
        "    else :\r\n",
        "        Cm='tipe salah'\r\n",
        "    \r\n",
        "    ahr = (1.1*np.log10(frek)-0.7)*hr-(1.56*np.log10(frek)-1.8)\r\n",
        "    Lp = Ca+(Cb*np.log10(frek))-(13.83*np.log(ht))-ahr+((44.9-6.55*np.log10(ht))*np.log10(d))-Cm\r\n",
        "    \r\n",
        "    return Lp"
      ],
      "execution_count": null,
      "outputs": []
    },
    {
      "cell_type": "code",
      "metadata": {
        "id": "fmsJGGEU_ykG"
      },
      "source": [
        "f=1800 #MHz\r\n",
        "loc='urban'\r\n",
        "tower=80 #m\r\n",
        "user=1.5 #m\r\n",
        "dmin=200 #m\r\n",
        "dmax=700 #m\r\n",
        "N=200 #titik\r\n",
        "d=np.random.randint(dmin,dmax,N)"
      ],
      "execution_count": null,
      "outputs": []
    },
    {
      "cell_type": "code",
      "metadata": {
        "colab": {
          "base_uri": "https://localhost:8080/"
        },
        "id": "cnpdFc7z_0eM",
        "outputId": "a1ce4472-c4ea-4333-e748-fc8a44cb945f"
      },
      "source": [
        "print(d)"
      ],
      "execution_count": null,
      "outputs": [
        {
          "output_type": "stream",
          "text": [
            "[471 429 346 680 371 681 371 671 636 491 258 557 263 488 656 245 585 635\n",
            " 694 368 334 496 413 588 693 279 235 347 214 269 481 499 644 516 662 308\n",
            " 449 259 478 641 451 286 452 633 478 605 614 332 325 494 616 351 638 398\n",
            " 478 687 216 362 549 269 354 287 449 574 296 368 319 371 539 515 214 637\n",
            " 380 338 227 615 406 216 504 600 345 605 275 276 638 669 206 578 310 445\n",
            " 440 398 627 644 292 434 491 283 254 237 677 210 441 388 539 538 488 227\n",
            " 615 240 659 693 600 401 648 422 496 312 257 616 481 231 425 604 624 589\n",
            " 584 398 698 352 552 221 574 458 654 510 512 449 470 694 452 444 382 492\n",
            " 628 553 477 663 430 391 445 365 585 505 334 589 679 478 344 583 284 303\n",
            " 492 445 221 357 372 257 526 685 555 627 340 582 664 578 374 406 254 659\n",
            " 382 656 668 478 520 365 636 273 453 243 411 551 535 659 326 326 244 605\n",
            " 505 616]\n"
          ],
          "name": "stdout"
        }
      ]
    },
    {
      "cell_type": "code",
      "metadata": {
        "id": "p_lK6Ccm_2oU"
      },
      "source": [
        "LpUrban=cos(f,loc,tower,user,d)"
      ],
      "execution_count": null,
      "outputs": []
    },
    {
      "cell_type": "code",
      "metadata": {
        "colab": {
          "base_uri": "https://localhost:8080/"
        },
        "id": "GTqgmOJ5Aeep",
        "outputId": "ccaaf4e1-379e-4bb6-9573-697dc3f6b4c0"
      },
      "source": [
        "print(LpUrban)"
      ],
      "execution_count": null,
      "outputs": [
        {
          "output_type": "stream",
          "text": [
            "[181.7061282  180.39045706 177.36166041 186.87908348 178.34436265\n",
            " 186.89978332 178.34436265 186.69140322 185.9367954  182.29191895\n",
            " 173.22764283 184.0684909  173.49802037 182.20558832 186.37293666\n",
            " 172.49936498 184.75937306 185.91462979 187.1661492  178.22999474\n",
            " 176.86444747 182.43463788 179.85504867 184.83142558 187.14583739\n",
            " 174.32992186 171.91235348 177.40231336 170.59374784 173.81576852\n",
            " 182.00206845 182.51958027 186.11287566 182.99147866 186.50118857\n",
            " 175.72288173 181.03231012 173.28213511 181.91393737 186.04710322\n",
            " 181.09491573 174.67897923 181.12611449 185.87019368 181.91393737\n",
            " 185.23290462 185.44090863 176.77984519 176.47967047 182.37772371\n",
            " 185.48671757 177.56376198 185.98102224 179.33392003 181.91393737\n",
            " 187.0233476  170.72478356 177.99843493 183.86470814 173.81576852\n",
            " 177.68364557 174.72814591 181.03231012 184.49198175 175.16309002\n",
            " 178.22999474 176.2171864  178.34436265 183.60576266 182.96415327\n",
            " 170.59374784 185.95892618 178.68199836 177.03214275 171.42446965\n",
            " 185.46383172 179.61425242 170.72478356 182.66002249 185.11600572\n",
            " 177.3208898  185.23290462 174.12650695 174.17763673 185.98102224\n",
            " 186.64935472 170.05706436 184.58980323 175.81405511 180.90625794\n",
            " 180.74708972 179.33392003 185.73603802 186.11287566 174.97143758\n",
            " 180.55368296 182.29191895 174.53044108 173.00754089 172.03172909\n",
            " 186.81680082 170.32796189 180.77906757 178.97547226 183.60576266\n",
            " 183.57960436 182.20558832 171.42446965 185.46383172 172.20891681\n",
            " 186.43720858 187.14583739 185.11600572 179.43969953 186.20009722\n",
            " 180.15871585 182.43463788 175.90464216 173.17293892 185.48671757\n",
            " 182.00206845 171.67052372 180.25850071 185.20960232 185.668478\n",
            " 184.85536142 184.73527342 179.33392003 187.24710481 177.60383665\n",
            " 183.94147257 171.04713715 184.49198175 181.31186977 186.32992522\n",
            " 182.82672547 182.88185758 181.03231012 181.67618932 187.1661492\n",
            " 181.12611449 180.87456785 178.75594203 182.32057865 185.75848621\n",
            " 183.96696802 181.88443739 186.52245082 180.42325391 179.08396756\n",
            " 180.90625794 178.11469065 184.75937306 182.68794368 176.86444747\n",
            " 184.85536142 186.85835318 181.91393737 177.28000084 184.71113247\n",
            " 174.58012804 175.4923326  182.32057865 180.90625794 171.04713715\n",
            " 177.80251748 178.38227987 173.17293892 183.26185621 186.98227982\n",
            " 184.01782092 185.73603802 177.11524764 184.68695008 186.54368103\n",
            " 184.58980323 178.45780947 179.61425242 173.00754089 186.43720858\n",
            " 178.75594203 186.37293666 186.62828331 181.91393737 183.10025324\n",
            " 178.11469065 185.9367954  174.02368724 181.15724431 172.38390337\n",
            " 179.78666874 183.91593088 183.50083675 186.43720858 176.5229462\n",
            " 176.5229462  172.44175248 185.23290462 182.68794368 185.48671757]\n"
          ],
          "name": "stdout"
        }
      ]
    },
    {
      "cell_type": "code",
      "metadata": {
        "id": "SxGVrK9sAfF9"
      },
      "source": [
        "f=1800 #MHz\r\n",
        "loc='open'\r\n",
        "tower=80 #m\r\n",
        "user=1.5 #m\r\n",
        "dmin=200 #m\r\n",
        "dmax=700 #m\r\n",
        "N=200 #titik\r\n",
        "d=np.random.randint(dmin,dmax,N)"
      ],
      "execution_count": null,
      "outputs": []
    },
    {
      "cell_type": "code",
      "metadata": {
        "colab": {
          "base_uri": "https://localhost:8080/"
        },
        "id": "GKmouyv0AkBw",
        "outputId": "acee469f-90a0-4790-d3cc-64f7fb16d3e3"
      },
      "source": [
        "print(d)"
      ],
      "execution_count": null,
      "outputs": [
        {
          "output_type": "stream",
          "text": [
            "[462 608 524 367 482 501 282 434 299 666 218 289 241 443 230 587 308 437\n",
            " 235 606 293 580 589 578 498 340 332 490 616 324 355 549 233 279 544 329\n",
            " 563 489 211 401 636 435 303 576 372 251 664 546 462 485 608 625 665 656\n",
            " 254 520 499 281 499 458 603 674 251 500 443 386 482 583 583 674 555 603\n",
            " 545 468 668 485 316 382 476 334 619 313 539 305 257 271 508 447 670 695\n",
            " 596 484 247 353 682 489 408 397 341 622 639 511 359 566 568 247 400 269\n",
            " 635 200 390 383 339 267 228 340 482 541 599 628 519 512 672 613 214 325\n",
            " 559 521 340 352 676 401 506 220 271 643 393 280 237 455 621 678 615 274\n",
            " 580 475 241 299 216 286 505 253 429 558 433 696 639 435 284 555 397 454\n",
            " 432 698 511 374 357 279 485 586 216 266 217 488 254 433 510 443 235 561\n",
            " 302 641 307 428 310 238 267 557 370 694 434 396 293 575 420 310 680 403\n",
            " 370 341]\n"
          ],
          "name": "stdout"
        }
      ]
    },
    {
      "cell_type": "code",
      "metadata": {
        "id": "T5bvoPT7AkbP"
      },
      "source": [
        "LpOpen=cos(f,loc,tower,user,d)"
      ],
      "execution_count": null,
      "outputs": []
    },
    {
      "cell_type": "code",
      "metadata": {
        "colab": {
          "base_uri": "https://localhost:8080/"
        },
        "id": "MFZHVKzHAl8c",
        "outputId": "615cdf9d-0631-40f5-9413-4fadc43b79da"
      },
      "source": [
        "print(LpOpen)"
      ],
      "execution_count": null,
      "outputs": [
        {
          "output_type": "stream",
          "text": [
            "[178.26541712 182.13363868 180.03925184 175.02272237 178.86238092\n",
            " 179.40698285 171.3116358  177.38474052 172.13619488 183.41710324\n",
            " 167.6856691  171.65702495 169.09854508 177.67386387 168.44046952\n",
            " 181.63850656 172.55393929 177.48177583 168.74341104 182.087226\n",
            " 171.85065326 181.46951796 181.68641898 181.42086079 179.32238057\n",
            " 173.9463052  173.61090274 179.09425838 182.31777513 173.26731894\n",
            " 174.55443866 180.69576569 168.62301511 171.16097942 180.56688796\n",
            " 173.48303889 181.05047387 179.06548158 167.22593757 176.27075709\n",
            " 182.76785295 177.41715995 172.32339016 181.37203496 175.21333742\n",
            " 169.67123523 183.37473858 180.61858064 178.26541712 178.94978288\n",
            " 182.13363868 182.52209158 183.39593684 183.20399422 169.83859844\n",
            " 179.9313108  179.35063783 171.26159583 179.35063783 178.14292732\n",
            " 182.01731897 183.58529912 169.67123523 179.37883851 177.67386387\n",
            " 175.73373256 178.86238092 181.54219003 181.54219003 183.58529912\n",
            " 180.84887848 182.01731897 180.59275801 178.44717754 183.45934086\n",
            " 178.94978288 172.91514466 175.58699959 178.68593305 173.69550502\n",
            " 182.38621042 172.78077571 180.43682021 172.41606311 170.00399648\n",
            " 170.75116906 179.60243428 177.80048259 183.50145222 184.01748932\n",
            " 181.8528406  178.92070911 169.44494543 174.47485519 183.75151034\n",
            " 179.06548158 176.51452995 176.12954049 173.9876745  182.45431485\n",
            " 182.83414125 179.68537606 174.71226931 181.12533448 181.17502143\n",
            " 169.44494543 176.23558544 170.64682608 182.74568735 166.4717496\n",
            " 175.87895279 175.62382637 173.90481404 170.54170442 168.31744483\n",
            " 173.9463052  178.86238092 180.48899152 181.92356662 182.58954377\n",
            " 179.9041958  179.71291514 183.54343805 182.24900573 167.4248054\n",
            " 173.31072803 180.95003681 179.9583737  173.9463052  174.43489421\n",
            " 183.62703615 176.27075709 179.5468672  167.81431144 170.75116906\n",
            " 182.92204318 175.98689383 171.21137746 168.86278665 178.05035588\n",
            " 182.43164994 183.66864988 182.29488928 170.90624847 181.46951796\n",
            " 178.65630898 169.09854508 172.13619488 167.55584111 171.51003679\n",
            " 179.51900124 169.78303136 177.22151462 180.92481525 177.3522463\n",
            " 184.03774272 182.83414125 177.41715995 171.41118559 180.84887848\n",
            " 176.12954049 178.01936304 177.31967695 184.07816237 179.68537606\n",
            " 175.28886703 174.63357504 171.16097942 178.94978288 181.6144891\n",
            " 167.55584111 170.48884793 167.62090468 179.03664588 169.83859844\n",
            " 177.3522463  179.65778303 177.67386387 168.74341104 181.00034486\n",
            " 172.27682404 182.87816078 172.50813035 177.18864124 172.64511267\n",
            " 168.92209721 170.54170442 180.89954845 175.13740065 183.99720676\n",
            " 177.38474052 176.09401402 171.85065326 181.34755843 176.92285529\n",
            " 172.64511267 183.71014103 176.34083802 175.13740065 173.9876745 ]\n"
          ],
          "name": "stdout"
        }
      ]
    },
    {
      "cell_type": "code",
      "metadata": {
        "id": "-sEi-P8rAnt5"
      },
      "source": [
        "f=1800 #MHz\r\n",
        "loc='suburban'\r\n",
        "tower=80 #m\r\n",
        "user=1.5 #m\r\n",
        "dmin=200 #m\r\n",
        "dmax=700 #m\r\n",
        "N=200 #titik\r\n",
        "d=np.random.randint(dmin,dmax,N)"
      ],
      "execution_count": null,
      "outputs": []
    },
    {
      "cell_type": "code",
      "metadata": {
        "colab": {
          "base_uri": "https://localhost:8080/"
        },
        "id": "ySK3_AMbAqIp",
        "outputId": "55d096b4-397c-48d7-8646-a43858354c48"
      },
      "source": [
        "print(d)"
      ],
      "execution_count": null,
      "outputs": [
        {
          "output_type": "stream",
          "text": [
            "[208 606 434 320 447 245 682 692 411 530 229 461 688 515 579 515 309 685\n",
            " 535 546 511 682 582 391 394 591 699 640 244 651 416 472 208 268 527 476\n",
            " 537 505 265 551 317 600 464 546 285 397 651 317 205 449 672 227 549 667\n",
            " 679 226 680 472 284 388 328 690 404 301 412 381 499 581 284 683 455 370\n",
            " 218 344 366 419 644 534 315 338 684 402 243 241 322 610 695 268 203 242\n",
            " 576 274 242 659 609 486 271 639 678 241 315 339 509 228 446 306 239 609\n",
            " 690 567 371 410 326 539 269 370 338 339 212 517 501 354 659 629 528 252\n",
            " 237 311 573 447 319 686 426 332 639 488 212 346 387 452 633 337 605 381\n",
            " 626 427 569 384 699 529 433 483 372 496 684 262 523 582 620 413 419 656\n",
            " 368 424 404 610 347 343 392 665 580 654 679 520 622 617 460 616 497 569\n",
            " 489 372 601 656 584 465 508 316 699 396 253 350 222 286 476 600 606 202\n",
            " 252 377]\n"
          ],
          "name": "stdout"
        }
      ]
    },
    {
      "cell_type": "code",
      "metadata": {
        "id": "lL34yWP9AsLz"
      },
      "source": [
        "LpSuburban=cos(f,loc,tower,user,d)"
      ],
      "execution_count": null,
      "outputs": []
    },
    {
      "cell_type": "code",
      "metadata": {
        "colab": {
          "base_uri": "https://localhost:8080/"
        },
        "id": "F9fD0jaFAuDk",
        "outputId": "f74d0c22-4f6d-4668-93a7-b047005428c0"
      },
      "source": [
        "print(LpSuburban)"
      ],
      "execution_count": null,
      "outputs": [
        {
          "output_type": "stream",
          "text": [
            "[166.62562223 181.68862633 176.98614086 172.69373271 177.40188292\n",
            " 168.93182288 183.35291068 183.55795415 176.21912664 179.80102853\n",
            " 167.98049183 177.83629472 183.47629457 179.39661116 181.04661072\n",
            " 179.39661116 172.20100008 183.41473772 179.93329465 180.21998098\n",
            " 179.28677639 183.35291068 181.11940798 175.51642546 175.62409149\n",
            " 181.33556932 183.69972912 182.45756855 168.87421038 182.69761869\n",
            " 176.38945806 178.16846148 166.62562223 170.19576365 179.7210686\n",
            " 178.28733339 179.9858553  179.12040158 170.0371927  180.34838877\n",
            " 172.56105131 181.54846361 177.92766523 180.21998098 171.06209824\n",
            " 175.73094083 182.69761869 172.56105131 166.42097595 177.46476802\n",
            " 183.14483839 167.85692755 180.29716603 183.03963822 183.29081107\n",
            " 167.79473655 183.31154137 178.16846148 171.01258593 175.40793015\n",
            " 173.04155872 183.51718353 175.97714851 171.83150381 176.25335809\n",
            " 175.15147661 178.95203817 181.095184   171.01258593 183.37354986\n",
            " 177.65175622 174.73880099 167.28706944 173.71245873 174.5856882\n",
            " 176.49067697 182.54533355 179.90694059 172.47189761 173.46460065\n",
            " 183.39415884 175.90724148 168.81636127 168.69994542 172.78149772\n",
            " 181.78129928 183.61888966 170.19576365 166.28287448 168.75827361\n",
            " 180.9734353  170.50764881 168.75827361 182.86966647 181.75818814\n",
            " 178.58019711 170.3525694  182.43554159 183.27005022 168.69994542\n",
            " 172.47189761 173.50621438 179.23153618 167.91884517 177.37033479\n",
            " 172.06357228 168.58255943 181.75818814 183.51718353 180.7516002\n",
            " 174.77682055 176.18481179 172.95540409 180.03822055 170.24822642\n",
            " 174.73880099 173.46460065 173.50621438 166.89393963 179.45120905\n",
            " 179.00838319 174.11610347 182.86966647 182.21335658 179.74777237\n",
            " 169.32864454 168.46418699 172.29187935 180.89987776 177.40188292\n",
            " 172.6496443  183.43528657 176.72406376 173.21230308 182.43554159\n",
            " 178.63804621 166.89393963 173.79411831 175.37157855 177.55857239\n",
            " 182.30265157 173.42286362 181.66536252 175.15147661 182.14601189\n",
            " 176.7570913  180.80119968 175.26195747 183.69972912 179.77442562\n",
            " 176.95364664 178.49297554 174.81473776 178.86709577 183.39415884\n",
            " 169.87681634 179.61374436 181.11940798 182.01034884 176.28750656\n",
            " 176.49067697 182.80539456 174.66245263 176.65777546 175.97714851\n",
            " 181.78129928 173.83477126 173.67145073 175.55240565 182.99733718\n",
            " 181.0709183  182.76238311 183.29081107 179.53271113 182.05571519\n",
            " 181.94202419 177.8057057  181.91917547 178.89546686 180.80119968\n",
            " 178.66688192 174.81473776 181.57192113 182.80539456 181.16773131\n",
            " 177.95799083 179.20383462 172.516545   183.69972912 175.69541436\n",
            " 169.3844317  173.95603087 167.54318991 171.11143713 178.28733339\n",
            " 181.54846361 181.68862633 166.21331267 169.32864454 175.00280781]\n"
          ],
          "name": "stdout"
        }
      ]
    },
    {
      "cell_type": "code",
      "metadata": {
        "colab": {
          "base_uri": "https://localhost:8080/",
          "height": 295
        },
        "id": "vYJtfCSoAv9m",
        "outputId": "15b7f53a-d5e8-40ac-8bf8-0121bbebc4af"
      },
      "source": [
        "plt.figure()\r\n",
        "plt.plot(d,'m-^', label='Urban')\r\n",
        "plt.plot(d,'r-o', label='Open')\r\n",
        "plt.plot(d,'c-+', label='Suburban')\r\n",
        "plt.legend()\r\n",
        "plt.title('Frekuensi 1800 MHz')\r\n",
        "plt.xlabel('Jarak (m)')\r\n",
        "plt.ylabel('Path Loss (dB)')\r\n",
        "plt.show()"
      ],
      "execution_count": null,
      "outputs": [
        {
          "output_type": "display_data",
          "data": {
            "image/png": "[encoded data removed]",
            "text/plain": [
              "<Figure size 432x288 with 1 Axes>"
            ]
          },
          "metadata": {
            "tags": [],
            "needs_background": "light"
          }
        }
      ]
    },
    {
      "cell_type": "code",
      "metadata": {
        "id": "cb1CVpwyAxx0"
      },
      "source": [
        "d_sort=d[np.argsort(d)]\r\n",
        "Urban_sort=LpUrban[np.argsort(d)]\r\n",
        "Open_sort=LpOpen[np.argsort(d)]\r\n",
        "Suburban_sort=LpSuburban[np.argsort(d)]"
      ],
      "execution_count": null,
      "outputs": []
    },
    {
      "cell_type": "code",
      "metadata": {
        "colab": {
          "base_uri": "https://localhost:8080/",
          "height": 295
        },
        "id": "tUh3Ri6vA5xy",
        "outputId": "71d18570-832b-48ac-e5cf-e322fa2b2d02"
      },
      "source": [
        "plt.figure()\r\n",
        "plt.plot(d_sort,'m-^', label='Urban')\r\n",
        "plt.plot(d_sort,'r-o', label='Open')\r\n",
        "plt.plot(d_sort,'c-+', label='Suburban')\r\n",
        "plt.legend()\r\n",
        "plt.title('Frekuensi 1800 MHz')\r\n",
        "plt.xlabel('Jarak (m)')\r\n",
        "plt.ylabel('Path Loss (dB)')\r\n",
        "plt.show()"
      ],
      "execution_count": null,
      "outputs": [
        {
          "output_type": "display_data",
          "data": {
            "image/png": "[encoded data removed]",
            "text/plain": [
              "<Figure size 432x288 with 1 Axes>"
            ]
          },
          "metadata": {
            "tags": [],
            "needs_background": "light"
          }
        }
      ]
    }
  ]
}