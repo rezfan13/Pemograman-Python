{
  "nbformat": 4,
  "nbformat_minor": 0,
  "metadata": {
    "colab": {
      "name": "SKO-Rezfan H.S Atmadja-1101180208-TT.42.07.ipynb",
      "provenance": [],
      "include_colab_link": true
    },
    "kernelspec": {
      "name": "python3",
      "display_name": "Python 3"
    }
  },
  "cells": [
    {
      "cell_type": "markdown",
      "metadata": {
        "id": "view-in-github",
        "colab_type": "text"
      },
      "source": [
        "<a href=\"https://colab.research.google.com/github/rezfan13/Rezfan-Atmadja/blob/main/SKO_Rezfan_H_S_Atmadja_1101180208_TT_42_07.ipynb\" target=\"_parent\"><img src=\"https://colab.research.google.com/assets/colab-badge.svg\" alt=\"Open In Colab\"/></a>"
      ]
    },
    {
      "cell_type": "markdown",
      "metadata": {
        "id": "fLikBs0o1h-D"
      },
      "source": [
        "**TUBES SKO **  \r\n",
        "Nama  : Rezfan H.S  Atmadja\r\n",
        "\r\n",
        "NIM   : 1101180208\r\n",
        "\r\n",
        "Kelas : TT-42-07"
      ]
    },
    {
      "cell_type": "code",
      "metadata": {
        "id": "JD16ElxR1U_8"
      },
      "source": [
        "import math as m\r\n",
        "import matplotlib.pyplot as plt\r\n",
        "import numpy as np"
      ],
      "execution_count": null,
      "outputs": []
    },
    {
      "cell_type": "markdown",
      "metadata": {
        "id": "57gLQ8hfL7X4"
      },
      "source": [
        "**SKENARIO**"
      ]
    },
    {
      "cell_type": "markdown",
      "metadata": {
        "id": "ezAwYnz-MEny"
      },
      "source": [
        "Sebuah Gedung bertingkat di daerah ELtari, Kota Kupang memiliki jumlah lantai mencapai **40 lantai**, jarak gedung dari sentral adalah **12 km**, yang dimana jarak akan dihitung dari **lantai 4** yang dimana jarak yang ditempuh untuk sampai ke Roset adalah **20m**, dengan total jarak adalah **12020 m**, Total ada **6 Connector, 2 Splitter,** dan **8 Splicer.** yang akan dipakai dan Splitter pertama memiliki redaman sebesar **16.00 dB** (Splitter 1:4) dan yang kedua memiliki redaman sebesar **18,20 db** (Splitter 1:8). dan Splicer memiliki redaman sebesar **0,1 dB.**\r\n",
        "\r\n",
        "\r\n",
        "\r\n",
        "\r\n",
        "\r\n",
        "\r\n"
      ]
    },
    {
      "cell_type": "markdown",
      "metadata": {
        "id": "ArSG1CZyC__M"
      },
      "source": [
        "**PARAMETER**"
      ]
    },
    {
      "cell_type": "code",
      "metadata": {
        "id": "SgbHOVpHHXnf"
      },
      "source": [
        "#PARAMETER UNTUK DAYA TERIMA\r\n",
        "j = np.arange(1.096,12.020,1)\r\n",
        "loss_fiber = 0.28 * j\r\n",
        "ptrans = 4\r\n",
        "\r\n",
        "#Connector\r\n",
        "connector = 6\r\n",
        "loss_connector = 0.3 * 6\r\n",
        "\r\n",
        "#Splitter\r\n",
        "splitter1 = 16.00\r\n",
        "splitter2 = 18.20\r\n",
        "loss_splitter = 16.00 + 18.20\r\n",
        "\r\n",
        "#Splicer\r\n",
        "splicer = 8\r\n",
        "loss_splicer = 0.1 * 8\r\n"
      ],
      "execution_count": null,
      "outputs": []
    },
    {
      "cell_type": "code",
      "metadata": {
        "id": "GYRpnEOQC1ZS"
      },
      "source": [
        "#PARAMETER UNTUK SIGNAL TO NOISE RATIO (SNR)\r\n",
        "BW = 8*10**9\r\n",
        "noise_figure = 1\r\n",
        "kboltzman = 1.38*10**-23\r\n",
        "tmp = 290\r\n",
        "RL = 50 \r\n",
        "responsivitas = 0.85\r\n",
        "dtsinyal = -0.23\r\n",
        "loss_margin = 3\r\n",
        "muatan = 1.6*10**-19\r\n",
        "arusgelap = 2*10**-7"
      ],
      "execution_count": null,
      "outputs": []
    },
    {
      "cell_type": "code",
      "metadata": {
        "id": "JOu0HVJ-C6T_"
      },
      "source": [
        "#PENGKONVERSIAN\r\n",
        "NtL = lambda x : 10 * np.log10(x)\r\n",
        "LtN = lambda x : 10**(x/10)"
      ],
      "execution_count": null,
      "outputs": []
    },
    {
      "cell_type": "markdown",
      "metadata": {
        "id": "1vOVMBJCDT4j"
      },
      "source": [
        "**HASIL ANALISIS (FUNGSI & GRAFIK)**"
      ]
    },
    {
      "cell_type": "code",
      "metadata": {
        "colab": {
          "base_uri": "https://localhost:8080/"
        },
        "id": "gmsjAkqCSKHo",
        "outputId": "9f7ed30a-fec1-48ed-edae-54140e06013f"
      },
      "source": [
        "#FUNGSI DAYA TERIMA\r\n",
        "def dayaterima(ptrans,j,loss_fiber,splicer,loss_splicer,connector,loss_connector,loss_splitter,loss_margin):\r\n",
        "  RT = loss_fiber + loss_splicer + loss_connector + loss_splitter + loss_margin\r\n",
        "  preceive = ptrans - RT\r\n",
        "  return preceive\r\n",
        "preceive = dayaterima(ptrans,j,loss_fiber,splicer,loss_splicer,connector,loss_connector,loss_splitter,loss_margin)\r\n",
        "print (\"Daya Terima =\",preceive)"
      ],
      "execution_count": null,
      "outputs": [
        {
          "output_type": "stream",
          "text": [
            "Daya Terima = [-36.10688 -36.38688 -36.66688 -36.94688 -37.22688 -37.50688 -37.78688\n",
            " -38.06688 -38.34688 -38.62688 -38.90688]\n"
          ],
          "name": "stdout"
        }
      ]
    },
    {
      "cell_type": "code",
      "metadata": {
        "colab": {
          "base_uri": "https://localhost:8080/",
          "height": 329
        },
        "id": "MfPczYfkSQTz",
        "outputId": "15a0d23c-efba-41f6-a52d-1268a8b4e829"
      },
      "source": [
        "#FUNGSI SIGNAL NOISE TO RATIO\r\n",
        "\r\n",
        "#Arus primer\r\n",
        "def arusprimer(preceive):\r\n",
        "  preceive_num = LtN(preceive)\r\n",
        "  iprimer = preceive_num * responsivitas\r\n",
        "  return iprimer\r\n",
        "iprimer = arusprimer(preceive)\r\n",
        "\r\n",
        "#BDC\r\n",
        "def bdc(muatan,arusgelap,BW,dtsinyal,noise_figure):\r\n",
        "  BDC = 2*muatan*arusgelap*BW*dtsinyal*dtsinyal*noise_figure\r\n",
        "  return BDC\r\n",
        "BDC = bdc(muatan,arusgelap,BW,dtsinyal,noise_figure)\r\n",
        "\r\n",
        "#Shot Noise\r\n",
        "def shotnoise(muatan,arusgelap,BW,dtsinyal,noise_figure):\r\n",
        "  sn = 2*muatan*arusgelap*BW*dtsinyal*dtsinyal*noise_figure\r\n",
        "  return sn\r\n",
        "sn = shotnoise(muatan,arusgelap,BW,dtsinyal,noise_figure)\r\n",
        "\r\n",
        "#Noise Thermal\r\n",
        "def noisethermal(kboltzman,tmp,BW,RL):\r\n",
        "  nt = (4*kboltzman*tmp*BW)/RL\r\n",
        "  return nt\r\n",
        "nt = noisethermal(kboltzman,tmp,BW,RL)\r\n",
        "\r\n",
        "#SNR (Signal Noise to Ratio)\r\n",
        "def snr(BDC,sn,nt,dtsinyal,iprimer):\r\n",
        "  SNR = ((iprimer)**2 * dtsinyal**2)/(BDC + sn + nt)\r\n",
        "  signr = NtL(SNR) \r\n",
        "  return signr\r\n",
        "signr = snr(BDC,sn,nt,dtsinyal,iprimer)\r\n",
        "print(\"SNR =\",signr)\r\n",
        "\r\n",
        "#GRAFIK SIGNAL NOISE TO RATIO (SNR)\r\n",
        "def grafik_snr():\r\n",
        "  plt.figure()\r\n",
        "  plt.plot(j,signr,'--')\r\n",
        "  plt.title('Perbandingan Jarak dengan SNR')\r\n",
        "  plt.xlabel('Jarak (Km)')\r\n",
        "  plt.ylabel('SNR (dB)')\r\n",
        "  plt.show()\r\n",
        "\r\n",
        "grafik_snr()"
      ],
      "execution_count": null,
      "outputs": [
        {
          "output_type": "stream",
          "text": [
            "SNR = [29.5245128 28.9645128 28.4045128 27.8445128 27.2845128 26.7245128\n",
            " 26.1645128 25.6045128 25.0445128 24.4845128 23.9245128]\n"
          ],
          "name": "stdout"
        },
        {
          "output_type": "display_data",
          "data": {
            "image/png": "[encoded data removed]",
            "text/plain": [
              "<Figure size 432x288 with 1 Axes>"
            ]
          },
          "metadata": {
            "tags": [],
            "needs_background": "light"
          }
        }
      ]
    },
    {
      "cell_type": "code",
      "metadata": {
        "colab": {
          "base_uri": "https://localhost:8080/",
          "height": 329
        },
        "id": "8MtXFnwM3Erj",
        "outputId": "96a789cd-778e-46f2-d597-7c195b781203"
      },
      "source": [
        "#FUNGSI Q-FAKTOR\r\n",
        "def qfaktor(signr):\r\n",
        "  qf = 10**(signr/20)\r\n",
        "  return qf\r\n",
        "QF = qfaktor(signr)\r\n",
        "print(\"Q-Faktor =\",QF)\r\n",
        "\r\n",
        "#GRAFIK Q-FAKTOR\r\n",
        "def grafik_Q():\r\n",
        "  plt.figure()\r\n",
        "  plt.plot(j,QF,'--')\r\n",
        "  plt.title('Perbandingan Jarak dengan Q')\r\n",
        "  plt.xlabel('Jarak (Km)')\r\n",
        "  plt.ylabel('Q')\r\n",
        "  plt.show()\r\n",
        "\r\n",
        "grafik_Q()"
      ],
      "execution_count": null,
      "outputs": [
        {
          "output_type": "stream",
          "text": [
            "Q-Faktor = [29.93819688 28.06891595 26.31634917 24.67320915 23.13266348 21.6883064\n",
            " 20.33413208 19.06450968 17.87415996 16.75813328 15.71178907]\n"
          ],
          "name": "stdout"
        },
        {
          "output_type": "display_data",
          "data": {
            "image/png": "[encoded data removed]",
            "text/plain": [
              "<Figure size 432x288 with 1 Axes>"
            ]
          },
          "metadata": {
            "tags": [],
            "needs_background": "light"
          }
        }
      ]
    },
    {
      "cell_type": "code",
      "metadata": {
        "colab": {
          "base_uri": "https://localhost:8080/",
          "height": 346
        },
        "id": "t49r5olv3MBu",
        "outputId": "c31eb494-859f-4f38-b686-1191553128f1"
      },
      "source": [
        "#FUNGSI BER\r\n",
        "def ber(QF):\r\n",
        "  phi = 3.14159\r\n",
        "  BER = (1/(QF*np.sqrt(2*phi)))*(np.exp(-QF**2/2))\r\n",
        "  return BER\r\n",
        "BER = ber(QF)\r\n",
        "print(\"BER =\",BER)\r\n",
        "\r\n",
        "#GRAFIK BER\r\n",
        "def grafik_BER():\r\n",
        "  plt.figure()\r\n",
        "  plt.plot(j,BER,'--')\r\n",
        "  plt.title('Perbandingan Jarak dengan BER')\r\n",
        "  plt.xlabel('Jarak (Km)')\r\n",
        "  plt.ylabel('BER')\r\n",
        "  plt.show()\r\n",
        "\r\n",
        "grafik_BER()"
      ],
      "execution_count": null,
      "outputs": [
        {
          "output_type": "stream",
          "text": [
            "BER = [3.13733524e-197 1.17538863e-173 6.24183274e-153 1.03885754e-134\n",
            " 1.08849643e-118 1.32554149e-104 3.21596010e-092 2.49642900e-081\n",
            " 9.40306258e-072 2.47817779e-063 6.30446354e-056]\n"
          ],
          "name": "stdout"
        },
        {
          "output_type": "display_data",
          "data": {
            "image/png": "[encoded data removed]",
            "text/plain": [
              "<Figure size 432x288 with 1 Axes>"
            ]
          },
          "metadata": {
            "tags": [],
            "needs_background": "light"
          }
        }
      ]
    },
    {
      "cell_type": "code",
      "metadata": {
        "id": "sem7Gh-RhYja",
        "colab": {
          "base_uri": "https://localhost:8080/",
          "height": 295
        },
        "outputId": "080e2600-8726-42da-e26a-e9b6a412a052"
      },
      "source": [
        "def grafik_perbandingan():\r\n",
        "  plt.figure()\r\n",
        "  plt.plot(signr,BER,'--')\r\n",
        "  plt.title('Perbandingan BER dengan SNR')\r\n",
        "  plt.xlabel('SNR')\r\n",
        "  plt.ylabel('BER')\r\n",
        "  plt.show()\r\n",
        "\r\n",
        "grafik_perbandingan()"
      ],
      "execution_count": null,
      "outputs": [
        {
          "output_type": "display_data",
          "data": {
            "image/png": "[encoded data removed]",
            "text/plain": [
              "<Figure size 432x288 with 1 Axes>"
            ]
          },
          "metadata": {
            "tags": [],
            "needs_background": "light"
          }
        }
      ]
    }
  ]
}